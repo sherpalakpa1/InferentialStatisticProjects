{
 "cells": [
  {
   "cell_type": "markdown",
   "metadata": {},
   "source": [
    "# What is the True Normal Human Body Temperature? \n",
    "\n",
    "#### Background\n",
    "\n",
    "The mean normal body temperature was held to be 37$^{\\circ}$C or 98.6$^{\\circ}$F for more than 120 years since it was first conceptualized and reported by Carl Wunderlich in a famous 1868 book. But, is this value statistically correct?"
   ]
  },
  {
   "cell_type": "markdown",
   "metadata": {},
   "source": [
    "<h3>Exercises</h3>\n",
    "\n",
    "<p>In this exercise, you will analyze a dataset of human body temperatures and employ the concepts of hypothesis testing, confidence intervals, and statistical significance.</p>\n",
    "\n",
    "<p>Answer the following questions <b>in this notebook below and submit to your Github account</b>.</p> \n",
    "\n",
    "<ol>\n",
    "<li>  Is the distribution of body temperatures normal? \n",
    "    <ul>\n",
    "    <li> Although this is not a requirement for the Central Limit Theorem to hold (read the introduction on Wikipedia's page about the CLT carefully: https://en.wikipedia.org/wiki/Central_limit_theorem), it gives us some peace of mind that the population may also be normally distributed if we assume that this sample is representative of the population.\n",
    "    <li> Think about the way you're going to check for the normality of the distribution. Graphical methods are usually used first, but there are also other ways: https://en.wikipedia.org/wiki/Normality_test\n",
    "    </ul>\n",
    "<li>  Is the sample size large? Are the observations independent?\n",
    "    <ul>\n",
    "    <li> Remember that this is a condition for the Central Limit Theorem, and hence the statistical tests we are using, to apply.\n",
    "    </ul>\n",
    "<li>  Is the true population mean really 98.6 degrees F?\n",
    "    <ul>\n",
    "    <li> First, try a bootstrap hypothesis test.\n",
    "    <li> Now, let's try frequentist statistical testing. Would you use a one-sample or two-sample test? Why?\n",
    "    <li> In this situation, is it appropriate to use the $t$ or $z$ statistic? \n",
    "    <li> Now try using the other test. How is the result be different? Why?\n",
    "    </ul>\n",
    "<li>  Draw a small sample of size 10 from the data and repeat both frequentist tests. \n",
    "    <ul>\n",
    "    <li> Which one is the correct one to use? \n",
    "    <li> What do you notice? What does this tell you about the difference in application of the $t$ and $z$ statistic?\n",
    "    </ul>\n",
    "<li>  At what temperature should we consider someone's temperature to be \"abnormal\"?\n",
    "    <ul>\n",
    "    <li> As in the previous example, try calculating everything using the boostrap approach, as well as the frequentist approach.\n",
    "    <li> Start by computing the margin of error and confidence interval. When calculating the confidence interval, keep in mind that you should use the appropriate formula for one draw, and not N draws.\n",
    "    </ul>\n",
    "<li>  Is there a significant difference between males and females in normal temperature?\n",
    "    <ul>\n",
    "    <li> What testing approach did you use and why?\n",
    "    <li> Write a story with your conclusion in the context of the original problem.\n",
    "    </ul>\n",
    "</ol>\n",
    "\n",
    "You can include written notes in notebook cells using Markdown: \n",
    "   - In the control panel at the top, choose Cell > Cell Type > Markdown\n",
    "   - Markdown syntax: http://nestacms.com/docs/creating-content/markdown-cheat-sheet\n",
    "\n",
    "#### Resources\n",
    "\n",
    "+ Information and data sources: http://www.amstat.org/publications/jse/datasets/normtemp.txt, http://www.amstat.org/publications/jse/jse_data_archive.htm\n",
    "+ Markdown syntax: http://nestacms.com/docs/creating-content/markdown-cheat-sheet\n",
    "\n",
    "****"
   ]
  },
  {
   "cell_type": "markdown",
   "metadata": {},
   "source": [
    "# 1. Is the distribution of body temperature normal?"
   ]
  },
  {
   "cell_type": "code",
   "execution_count": 1,
   "metadata": {},
   "outputs": [],
   "source": [
    "import pandas as pd\n",
    "df = pd.read_csv('data/human_body_temperature.csv')"
   ]
  },
  {
   "cell_type": "code",
   "execution_count": 2,
   "metadata": {},
   "outputs": [
    {
     "data": {
      "text/plain": [
       "count    130.000000\n",
       "mean      98.249231\n",
       "std        0.733183\n",
       "min       96.300000\n",
       "25%       97.800000\n",
       "50%       98.300000\n",
       "75%       98.700000\n",
       "max      100.800000\n",
       "Name: temperature, dtype: float64"
      ]
     },
     "execution_count": 2,
     "metadata": {},
     "output_type": "execute_result"
    }
   ],
   "source": [
    "#find the statistics of the body temperature\n",
    "df.temperature.describe()"
   ]
  },
  {
   "cell_type": "code",
   "execution_count": 42,
   "metadata": {},
   "outputs": [
    {
     "data": {
      "image/png": "[encoded data removed]",
      "text/plain": [
       "<matplotlib.figure.Figure at 0x1a6163aefd0>"
      ]
     },
     "metadata": {},
     "output_type": "display_data"
    }
   ],
   "source": [
    "#import numpy and matplotlib\n",
    "import numpy as np\n",
    "import matplotlib.pyplot as plt\n",
    "import seaborn as sns\n",
    "\n",
    "#The rule of thumb for choosing the number of bin\n",
    "n_bins = int(np.sqrt(len(df.temperature)))\n",
    "\n",
    "#plot the histogram to check if the distribution is normal.\n",
    "sns.set()\n",
    "sns.distplot(df.temperature, bins=n_bins)\n",
    "#_ = plt.hist(df['temperature'], bins=n_bins)\n",
    "_ = plt.xlabel('Body Temperature')\n",
    "_ = plt.title('Histogram of Body Temperature')\n",
    "plt.tight_layout()\n",
    "plt.show()\n",
    "#the plot looks like approximately normalized.\n",
    "#the mean and median of the data is approximately equal"
   ]
  },
  {
   "cell_type": "markdown",
   "metadata": {},
   "source": [
    "# 2. Is the sample size large? Are the observation independent? "
   ]
  },
  {
   "cell_type": "code",
   "execution_count": 4,
   "metadata": {},
   "outputs": [
    {
     "data": {
      "text/plain": [
       "130"
      ]
     },
     "execution_count": 4,
     "metadata": {},
     "output_type": "execute_result"
    }
   ],
   "source": [
    "# Yes, the sample size is large enough, and the observations are independent.\n",
    "# A sample size more than 30 is considered to be large enough size.\n",
    "# The body temperature is observed from different person.\n",
    "len(df.temperature)"
   ]
  },
  {
   "cell_type": "markdown",
   "metadata": {},
   "source": [
    "# 3. Is the true population mean really 98.6 degree F?"
   ]
  },
  {
   "cell_type": "code",
   "execution_count": 5,
   "metadata": {},
   "outputs": [
    {
     "data": {
      "text/plain": [
       "0.0"
      ]
     },
     "execution_count": 5,
     "metadata": {},
     "output_type": "execute_result"
    }
   ],
   "source": [
    "'''H0: population mean = 98.6\n",
    "Ha: population mean != 98.6'''\n",
    "#level of significance = 0.05\n",
    "#bootstrap method\n",
    "def bootstrap_replicate_1d(data, func):\n",
    "    return func(np.random.choice(data, size=len(data)))\n",
    "\n",
    "def draw_bs_reps(data, func, size=1):\n",
    "    '''Draw bootstrap replicates.'''\n",
    "    #Initialize array of replicates\n",
    "    bs_replicates = np.empty(size)\n",
    "    #generate replicates\n",
    "    for i in range(size):\n",
    "        bs_replicates[i] = bootstrap_replicate_1d(data, func)\n",
    "    return bs_replicates\n",
    "\n",
    "#take 10,000 bootstrap replicates of the mean    \n",
    "bs_replicates = draw_bs_reps(df.temperature, np.mean, size=10000)\n",
    "# Compute p-value\n",
    "p = np.sum(bs_replicates >= 98.6) / len(bs_replicates)\n",
    "p\n",
    "'''Because the p-value we got from the bootstrap replicates is 0.0, \n",
    "which is less than 0.05\n",
    "We reject that the null hypothesis, i.e. true population mean is 98.6 F.'''"
   ]
  },
  {
   "cell_type": "markdown",
   "metadata": {},
   "source": [
    "# Would you use a one-sample or two sample test?\n",
    "We will use one-sample, two tailed z-test, becaue we have a known\n",
    "value 98.6 to test the hypothesis."
   ]
  },
  {
   "cell_type": "markdown",
   "metadata": {},
   "source": [
    "# In this situation, is it appropriate to use the t or z-statistics?\n",
    "We will use z-statistics because the sample size is greater than 30."
   ]
  },
  {
   "cell_type": "code",
   "execution_count": 52,
   "metadata": {},
   "outputs": [
    {
     "data": {
      "text/plain": [
       "-5.475925202078116"
      ]
     },
     "execution_count": 52,
     "metadata": {},
     "output_type": "execute_result"
    }
   ],
   "source": [
    "# We assume,\n",
    "# Level of significance = alpha = 0.05\n",
    "# H0: population mean = 98.6\n",
    "# Ha: population mean != 98.6.\n",
    "# Now, frequentist statistical testing with z-score\n",
    "pop_mean = 98.6\n",
    "sample_mean = np.mean(df.temperature)\n",
    "#because the sample size is greater than 100 and population st. deviation is not known\n",
    "# we will assume sample std. deviation is approximately equal to population std. deviation\n",
    "std = np.std(df.temperature)\n",
    "n = len(df.temperature)\n",
    "z = (sample_mean - pop_mean)/ (std/np.sqrt(n))\n",
    "'''Both of the result rejected the null hypothesis:-\n",
    "1. \n",
    "z-critical value alpha=0.05 for a two tail test is 1.96\n",
    "if the calculated z-value is greater than 1.96 critical z-value,\n",
    "then we will reject the null hypothesis.\n",
    "2. \n",
    "When calculated p-value with the z-score from a calculator: \n",
    "P-value is less than 0.00001\n",
    "Because the p-value is less than the level of significance, \n",
    "we reject the null hypothesis'''\n",
    "z"
   ]
  },
  {
   "cell_type": "markdown",
   "metadata": {},
   "source": [
    "# 4. Draw a small sample of size 10 from the data and repeat both frequentist tests.\n",
    "Which one is the correct one to use?"
   ]
  },
  {
   "cell_type": "code",
   "execution_count": 61,
   "metadata": {},
   "outputs": [
    {
     "data": {
      "text/plain": [
       "-2.0721547741640345"
      ]
     },
     "execution_count": 61,
     "metadata": {},
     "output_type": "execute_result"
    }
   ],
   "source": [
    "# For a sample size less than 30, we must use t-statistics\n",
    "# draw a small random sample of size 10 from the data\n",
    "np.random.seed(1)\n",
    "small_sample = np.random.choice(df.temperature, size=10, replace=False)\n",
    "# H0: population mean = 98.6\n",
    "# Ha: population mean != 98.6\n",
    "# Level of significance = 0.05\n",
    "# find the calculated t-value to compare with the critical t-value\n",
    "pop_mean = 98.6\n",
    "sample_mean = np.mean(small_sample)\n",
    "std = np.std(small_sample)\n",
    "n = 10\n",
    "t = (sample_mean - pop_mean)/ (std/np.sqrt(n))\n",
    "degree_of_freedom = n-1\n",
    "'''\n",
    "df = 9 \n",
    "t = -2.072\n",
    "Using the calculator P-value is 0.068\n",
    "Because p-value is greater than 0.05, we fail to reject the null hypothesis'''\n",
    "t"
   ]
  },
  {
   "cell_type": "code",
   "execution_count": 63,
   "metadata": {},
   "outputs": [
    {
     "data": {
      "text/plain": [
       "0.0202"
      ]
     },
     "execution_count": 63,
     "metadata": {},
     "output_type": "execute_result"
    }
   ],
   "source": [
    "'''H0: population mean = 98.6\n",
    "Ha: population mean != 98.6'''\n",
    "#level of significance = 0.05\n",
    "#bootstrap method\n",
    "#take 10,000 bootstrap replicates of the mean    \n",
    "bs_replicates = draw_bs_reps(small_sample, np.mean, size=10000)\n",
    "# Compute p-value\n",
    "p = np.sum(bs_replicates >= 98.6) / len(bs_replicates)\n",
    "p"
   ]
  },
  {
   "cell_type": "markdown",
   "metadata": {},
   "source": [
    "# What do you notice? What does this tell you about the difference in application of the t and z- statistics?\n",
    "When the sample size is more than 30, we can use z-statistics. When the sample size is less than 30, we use t-statistics."
   ]
  },
  {
   "cell_type": "markdown",
   "metadata": {},
   "source": [
    "\n",
    "# 5. At what temperature should we consider someone's temperature to be \"abnormal\"?"
   ]
  },
  {
   "cell_type": "code",
   "execution_count": 11,
   "metadata": {},
   "outputs": [
    {
     "data": {
      "text/plain": [
       "0.125550964802579"
      ]
     },
     "execution_count": 11,
     "metadata": {},
     "output_type": "execute_result"
    }
   ],
   "source": [
    "#level of significance = 0.05\n",
    "#Critical value for z score is 1.96\n",
    "standard_error = np.std(df.temperature) / np.sqrt(len(df.temperature))\n",
    "margin_of_error = 1.96*standard_error\n",
    "margin_of_error"
   ]
  },
  {
   "cell_type": "code",
   "execution_count": 12,
   "metadata": {},
   "outputs": [
    {
     "data": {
      "text/plain": [
       "[98.12367980442819, 98.37478173403336]"
      ]
     },
     "execution_count": 12,
     "metadata": {},
     "output_type": "execute_result"
    }
   ],
   "source": [
    "#we should consider temperature<98.12 or temperature>98.37 to be abnormal.\n",
    "confidence_interval = [np.mean(df.temperature)-margin_of_error, np.mean(df.temperature)+margin_of_error]\n",
    "confidence_interval"
   ]
  },
  {
   "cell_type": "markdown",
   "metadata": {},
   "source": [
    "# 6. Is there a significant difference between males and females in normal temperature?"
   ]
  },
  {
   "cell_type": "code",
   "execution_count": 67,
   "metadata": {},
   "outputs": [
    {
     "data": {
      "text/plain": [
       "0.24613030301613179"
      ]
     },
     "execution_count": 67,
     "metadata": {},
     "output_type": "execute_result"
    }
   ],
   "source": [
    "#seperate the body temperature by gender\n",
    "#H0: male_mean - female_mean = 0\n",
    "#Ha: male_mean - female_mean !=0\n",
    "#level of significance = 5%\n",
    "#critical z-value = 1.96\n",
    "male_temp = df.temperature[df['gender']=='M']\n",
    "female_temp = df.temperature[df['gender']=='F']\n",
    "n_male = len(male_temp)\n",
    "n_female = len(female_temp)\n",
    "male_mean = np.mean(male_temp)\n",
    "male_var = np.var(male_temp)\n",
    "female_mean = np.mean(female_temp)\n",
    "female_var = np.var(female_temp)\n",
    "diff_mean = male_mean - female_mean\n",
    "sampling_dist_std = np.sqrt((male_var/n_male) + (female_var/n_female))\n",
    "#calculate z-score\n",
    "z = (diff_mean - 0) / sampling_dist_std\n",
    "margin_of_error = 1.96 * sampling_dist_std\n",
    "margin_of_error\n",
    "#margin_of_error tells us that the probability of getting diff_mean assuming\n",
    "#null hypothesis is true is less than 5%"
   ]
  },
  {
   "cell_type": "code",
   "execution_count": 68,
   "metadata": {},
   "outputs": [
    {
     "data": {
      "text/plain": [
       "-2.3032202891940123"
      ]
     },
     "execution_count": 68,
     "metadata": {},
     "output_type": "execute_result"
    }
   ],
   "source": [
    "#If P-value <0.05, reject H0\n",
    "#From the table, p-value for -2.303 is 0.0212\n",
    "#because the p-value is less than 0.05, we will reject the null hypothesis.\n",
    "z"
   ]
  },
  {
   "cell_type": "code",
   "execution_count": 16,
   "metadata": {},
   "outputs": [
    {
     "data": {
      "image/png": "[encoded data removed]",
      "text/plain": [
       "<matplotlib.figure.Figure at 0x1a6162a29b0>"
      ]
     },
     "metadata": {},
     "output_type": "display_data"
    }
   ],
   "source": [
    "#Female mean body temperature is slightly greater than male mean body temperature\n",
    "sns.distplot(male_temp)\n",
    "sns.distplot(female_temp)\n",
    "plt.xlabel('Body Temperature')\n",
    "plt.title('Male and Female Body Temperature')\n",
    "plt.legend(('male','female'))\n",
    "plt.tight_layout()\n",
    "plt.show()"
   ]
  },
  {
   "cell_type": "code",
   "execution_count": null,
   "metadata": {},
   "outputs": [],
   "source": []
  }
 ],
 "metadata": {
  "kernelspec": {
   "display_name": "Python 3",
   "language": "python",
   "name": "python3"
  },
  "language_info": {
   "codemirror_mode": {
    "name": "ipython",
    "version": 3
   },
   "file_extension": ".py",
   "mimetype": "text/x-python",
   "name": "python",
   "nbconvert_exporter": "python",
   "pygments_lexer": "ipython3",
   "version": "3.6.4"
  }
 },
 "nbformat": 4,
 "nbformat_minor": 1
}
